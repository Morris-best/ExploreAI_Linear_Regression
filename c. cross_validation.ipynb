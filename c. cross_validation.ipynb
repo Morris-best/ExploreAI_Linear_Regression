{
 "cells": [
  {
   "cell_type": "markdown",
   "id": "348c97f1",
   "metadata": {},
   "source": [
    "##\n",
    "load a dataset from scikit learn "
   ]
  }
 ],
 "metadata": {
  "language_info": {
   "name": "python"
  }
 },
 "nbformat": 4,
 "nbformat_minor": 5
}
